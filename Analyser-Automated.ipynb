{
 "cells": [
  {
   "cell_type": "markdown",
   "metadata": {},
   "source": [
    "# Importing Libraries"
   ]
  },
  {
   "cell_type": "code",
   "execution_count": null,
   "metadata": {},
   "outputs": [],
   "source": [
    "import numpy as np\n",
    "import pandas as pd\n",
    "import matplotlib.pyplot as plt\n",
    "from scipy.signal import savgol_filter\n",
    "from math import pi,acos\n",
    "import os\n",
    "import seaborn as sns\n",
    "from scipy.constants import epsilon_0 as epsilon\n",
    "%matplotlib inline"
   ]
  },
  {
   "cell_type": "code",
   "execution_count": null,
   "metadata": {},
   "outputs": [],
   "source": [
    "#Run this to reset the results\n",
    "results= pd.DataFrame(columns = ['LC Name', 'Temperature', 'Applied Voltage','Rise Time','Decay Time','Total Response Time','Visco-Elastic Ratio'])"
   ]
  },
  {
   "cell_type": "code",
   "execution_count": null,
   "metadata": {},
   "outputs": [],
   "source": [
    "#Loading the data\n",
    "path=\"/home/avinash/Desktop/Projects/Liquid_Crystal_Analysis/data/Batch2\" #Enter Loaction WHere CSV data is kept\n",
    "\n",
    "\n",
    "name_of_LC=\"Pure 5CB\"# Change this to show type of LC\n",
    "thickness= 7.01E-6 #in Metres\n",
    "area=77E-6 #in Metres^2\n",
    "empty_c=99.6E-12 #in Farad\n",
    "wavelength=633E-9 #in metre\n",
    "#Dielectric Anisotropy depends on temperature\n",
    "\n",
    "dielectric_anisotropy=[None,None,None,None]\n",
    "temps=['26','28','30','32']\n",
    "voltages=['4','5','6','7','8','9','10']\n",
    "#epsilon_a=[1,1,1,1]\n",
    "\n",
    "if not os.path.exists(path + \"/Analysis\") :\n",
    "    os.mkdir (path + \"/Analysis\")\n",
    "output_path=path+\"/Analysis\""
   ]
  },
  {
   "source": [
    "# Finding the Threshold Voltage"
   ],
   "cell_type": "markdown",
   "metadata": {}
  },
  {
   "cell_type": "code",
   "execution_count": null,
   "metadata": {},
   "outputs": [],
   "source": [
    "#Reading the datafile containing the Threshold Voltage data\n",
    "vthdata=pd.read_csv(path+\"/Vth.csv\",skiprows=0)\n",
    "#Normalizing Voltage\n",
    "vthdata['Intensity']=(vthdata['Intensity']-vthdata['Intensity'].min())/(vthdata['Intensity'].max()-vthdata['Intensity'].min())\n",
    "temp=32\n",
    "\n",
    "vthdata.describe()"
   ]
  },
  {
   "cell_type": "code",
   "execution_count": null,
   "metadata": {
    "tags": []
   },
   "outputs": [],
   "source": [
    "#Plotting the normalized intensity vs voltage data\n",
    "plt.figure(2,figsize=(12, 8), dpi=100, linewidth=0.1)\n",
    "plt.ylabel(\"Normalized Intensity\")\n",
    "plt.xlabel(\"Applied Voltage (in Volts)\")\n",
    "plt.plot(vthdata['Voltage'],vthdata['Intensity'])\n",
    "indx_max = np.argmax(vthdata['Intensity'])\n",
    "plt.plot(vthdata['Voltage'][indx_max], vthdata['Intensity'][indx_max], 'ro')\n",
    "vth=vthdata['Voltage'][indx_max]\n",
    "#plt.plot(vth*np.ones(2),[1,vthdata['Intensity'][indx_max]])\n",
    "plt.annotate(\"Threshold Votage:\"+ str(vth)+'V',(vthdata['Voltage'][indx_max], vthdata['Intensity'][indx_max]),xytext=(vthdata['Voltage'][indx_max]+0.25, vthdata['Intensity'][indx_max]))\n",
    "print(\"Threshold Votage:\"+ str(vth)+'V')\n",
    "plt.title(name_of_LC+\"_32C_\"+\"Threshold_Voltage\")\n",
    "plt.savefig(output_path+\"/\"+name_of_LC+\"_\"+\"Threshold_Voltage.jpg\", dpi=300,bbox_inches='tight')\n",
    "plt.show()"
   ]
  },
  {
   "cell_type": "code",
   "execution_count": null,
   "metadata": {
    "tags": []
   },
   "outputs": [],
   "source": [
    "#FInding the birefringence from the Intensity vs Voltage Data\n",
    "#Threshold Voltage depends on temperature of material\n",
    "plt.figure(2,figsize=(12, 8), dpi=100, linewidth=0.1)\n",
    "plt.ylabel(\"Degradation in terms of Birefringence\")\n",
    "plt.xlabel(\"Applied Voltage (in Volts)\")\n",
    "biref=np.arccos(1-vthdata['Intensity']*2)/2/pi/thickness*wavelength\n",
    "plt.plot(vthdata['Voltage'],biref)\n",
    "\n",
    "indx_max = np.argmax(biref)\n",
    "plt.plot(vthdata['Voltage'][indx_max], biref[indx_max], 'ro')\n",
    "b=biref[indx_max]\n",
    "#plt.plot(vth*np.ones(2),[1,vthdata['Intensity'][indx_max]])\n",
    "plt.annotate(\"Max Birefringence:\"+ str(b),(vthdata['Voltage'][indx_max], biref[indx_max]),xytext=(vthdata['Voltage'][indx_max]+0.25, biref[indx_max]))\n",
    "print(\"Max Birefrigence:\"+ str(b)+'V')\n",
    "\n",
    "plt.title(name_of_LC+\"_32C_\"+\"Birefringence\")\n",
    "plt.savefig(output_path+\"/\"+name_of_LC+\"_\"+\"Birefringence.jpg\", dpi=300,bbox_inches='tight')\n",
    "plt.show()"
   ]
  },
  {
   "cell_type": "code",
   "execution_count": null,
   "metadata": {},
   "outputs": [],
   "source": [
    "vths=[None,None,None,vth]"
   ]
  },
  {
   "source": [
    "# Analysis of Each Temperature and Voltage Case"
   ],
   "cell_type": "markdown",
   "metadata": {}
  },
  {
   "cell_type": "code",
   "execution_count": null,
   "metadata": {
    "tags": []
   },
   "outputs": [],
   "source": [
    "if not os.path.exists(output_path+\"/TransmittancevsTime\") :\n",
    "    os.mkdir (output_path+\"/TransmittancevsTime\")\n",
    "for temp in temps:\n",
    "    for voltage in voltages:\n",
    "        try :\n",
    "            #temp=str(temp)\n",
    "            #voltage=str(voltage)\n",
    "            input_path=path+\"/\"+temp+\"_\"+voltage+\"_2.csv\"\n",
    "            df=pd.read_csv(input_path,skiprows=1)\n",
    "            #Normalizing the Volt to represent transmittance\n",
    "            df.Volt=(df.Volt-df.Volt.min())/(df.Volt.max()-df.Volt.min())\n",
    "        except :\n",
    "          print (\"Incorrect CSV directory or filename\")\n",
    "          continue\n",
    "        else:\n",
    "            print(\"File Exists. Start Analysis\")\n",
    "        plt.figure(figsize=(12, 8), dpi=100, linewidth=0.1)\n",
    "        plt.xlabel(\"Time (in seconds)\")\n",
    "        plt.ylabel(\"Transmittance\")\n",
    "\n",
    "        #Have set the window size as a constant = 33. If the number of intersections on\n",
    "        #the 0.9 line or 0.1 line are more than 6, then icncrease window size\n",
    "        window_size =33\n",
    "        smooth=savgol_filter(df.Volt,window_size,2) #Creating a smoothened Curve us SavGol filter with window size 25 \n",
    "\n",
    "        plt.plot(df.second,smooth) #Printing the smooth curve\n",
    "        plt.plot(df.second,df.Volt)#Printing the actual curve\n",
    "\n",
    "        plt.plot(df.second,0.9*np.ones(df.second.shape)) #Printing horizontal line at 0.9\n",
    "        plt.plot(df.second,0.1*np.ones(df.second.shape)) #Printing horizontal line at 0.1\n",
    "\n",
    "        #Finding position where the curve closses the 0.9 transmittance\n",
    "        idx = np.argwhere(np.diff(np.sign(smooth - 0.9))).flatten()\n",
    "        if(len(idx)!=6):\n",
    "            print(\"Error in top. Number of points greater than 6. Increase window size and retry\")\n",
    "            exit(1)\n",
    "        idx=idx[1:5] #Eliminating First and last points\n",
    "        plt.plot(df.second[idx], 0.9*np.ones(idx.size), 'ro') #Plotting Points of intersection\n",
    "        #print(len(idx))\n",
    "        idx_top=idx\n",
    "        for i in range(len(idx)):\n",
    "            plt.annotate(\"T90=\"+str(round(df.second[idx[i]],4)),(df.second[idx[i]], 0.9),xytext =(df.second[idx[i]]+0.0005-max(0,0.006*pow(-1,i+1)), 0.91))\n",
    "\n",
    "\n",
    "        #Finding position where the curve closses the 0.1 transmittance\n",
    "        idx = np.argwhere(np.diff(np.sign(smooth - 0.1))).flatten()\n",
    "        if(len(idx)!=6):\n",
    "            print(\"Error in bot. Number of points greater than 6. Increase window size and retry\")\n",
    "            exit(1)\n",
    "        idx=idx[1:5] #Eliminating First and last points\n",
    "        plt.plot(df.second[idx], 0.1*np.ones(idx.size), 'bo') #Plotting Points of intersection\n",
    "        #print(len(idx))\n",
    "        idx_bot=idx\n",
    "        for i in range(len(idx)):\n",
    "            plt.annotate(\"T10=\"+str(round(df.second[idx[i]],4)),(df.second[idx[i]], 0.1),xytext =(df.second[idx[i]]+0.0005-max(0,0.006*pow(-1,i)), 0.11-max(0,0.05*pow(-1,i))))\n",
    "\n",
    "        #Calculating RiseTime and DecayTime (average of 2 sets)\n",
    "        rise_time=((df.second[idx_bot[0]]-df.second[idx_top[0]])+(df.second[idx_bot[2]]-df.second[idx_top[2]]))/2\n",
    "        decay_time=((df.second[idx_top[1]]-df.second[idx_bot[1]])+(df.second[idx_top[3]]-df.second[idx_bot[3]]))/2\n",
    "        response_time=rise_time+decay_time\n",
    "        #Printing the times\n",
    "        #print(\"Rise Time = \",rise_time,\"seconds\")\n",
    "        #print(\"Decay Time = \",decay_time,\"seconds\")\n",
    "        #print(\"Response Time = \",response_time,\"seconds\")\n",
    "        plt.annotate(\"Rise Time = \"+str(round(rise_time,4)),xy=(0.019,1))\n",
    "        plt.annotate(\"Decay Time=\"+str(round(decay_time,4)),xy=(0.019,0.97))\n",
    "        plt.annotate(\"Resp. Time=\"+str(round(response_time,4)),xy=(0.019,0.94))\n",
    "        plt.annotate(name_of_LC,xy=(-0.027,1))\n",
    "        plt.annotate(\"Appl. Volt. = \"+voltage+\"V\",xy=(-0.027,0.97))\n",
    "        plt.annotate(\"Temp = \"+temp+\"C\",xy=(-0.027,0.94))\n",
    "        plt.title(name_of_LC+\"_\"+temp+\"C_\"+voltage+\"V\")\n",
    "        plt.savefig(output_path+\"/TransmittancevsTime/\"+temp+\"_\"+voltage+\".jpg\", dpi=300,bbox_inches='tight')\n",
    "        #plt.show()\n",
    "        results=results.append({'LC Name':name_of_LC, 'Temperature':temp, 'Applied Voltage':voltage,'Rise Time':rise_time,'Decay Time':decay_time,'Total Response Time': response_time,'Visco-Elastic Ratio':decay_time*(pi/thickness)**2},ignore_index=True)\n",
    "            "
   ]
  },
  {
   "cell_type": "code",
   "execution_count": null,
   "metadata": {},
   "outputs": [],
   "source": [
    "#If you are happy with the results, you can write it to a csv file.\n",
    "results.to_csv(output_path+\"/\"+\"RespTimevsAppVolt.csv\", index=False)"
   ]
  },
  {
   "cell_type": "code",
   "execution_count": null,
   "metadata": {},
   "outputs": [],
   "source": [
    "results=pd.read_csv(output_path+\"/RespTimevsAppVolt.csv\")\n",
    "results.tail()"
   ]
  },
  {
   "cell_type": "code",
   "execution_count": null,
   "metadata": {},
   "outputs": [],
   "source": [
    "#Plotting the response time vs Applied Voltage\n",
    "if not os.path.exists(output_path+\"/ResponseTimevsTemp\") :\n",
    "    os.mkdir (output_path+\"/ResponseTimevsTemp\")\n",
    "for idx,temp in enumerate(temps):\n",
    "    plt.figure(1,figsize=(12, 8), dpi=100, linewidth=0.1)\n",
    "    plt.ylabel(\"Time (in seconds)\")\n",
    "    plt.xlabel(\"Applied Voltage (in Volts)\")\n",
    "    plt.plot(results['Applied Voltage'][idx*len(voltages):(idx+1)*len(voltages)],results['Total Response Time'][idx*len(voltages):(idx+1)*len(voltages)],'-o')\n",
    "    plt.plot(results['Applied Voltage'][idx*len(voltages):(idx+1)*len(voltages)],results['Rise Time'][idx*len(voltages):(idx+1)*len(voltages)],'-o')\n",
    "    plt.plot(results['Applied Voltage'][idx*len(voltages):(idx+1)*len(voltages)],results['Decay Time'][idx*len(voltages):(idx+1)*len(voltages)],'-o')\n",
    "    plt.legend(['Total Response Time','Rise Time','Decay Time'])\n",
    "    plt.title(name_of_LC+\" - \"+temp+\" Celcius\")\n",
    "    plt.savefig(output_path+\"/ResponseTimevsTemp/\"+name_of_LC+\"_\"+temp+\".jpg\", dpi=300,bbox_inches='tight')\n",
    "    plt.show()\n"
   ]
  },
  {
   "cell_type": "code",
   "execution_count": null,
   "metadata": {
    "tags": []
   },
   "outputs": [],
   "source": [
    "#Plotting the response time vs Applied Voltage\n",
    "if not os.path.exists(output_path+\"/ResponseTimevsVoltage\") :\n",
    "    os.mkdir (output_path+\"/ResponseTimevsVoltage\")\n",
    "results1=results.sort_values(['Applied Voltage','Temperature'])\n",
    "print(results1.head(20))\n",
    "for idx,voltage in enumerate(voltages):\n",
    "    plt.figure(1,figsize=(12, 8), dpi=100, linewidth=0.1)\n",
    "    plt.ylabel(\"Time (in seconds)\")\n",
    "    plt.xlabel(\"Temperature (in Celcius)\")\n",
    "    plt.plot(results1['Temperature'][idx*len(temps):(idx+1)*len(temps)],results1['Total Response Time'][idx*len(temps):(idx+1)*len(temps)],'-o')\n",
    "    plt.plot(results1['Temperature'][idx*len(temps):(idx+1)*len(temps)],results1['Rise Time'][idx*len(temps):(idx+1)*len(temps)],'-o')\n",
    "    plt.plot(results1['Temperature'][idx*len(temps):(idx+1)*len(temps)],results1['Decay Time'][idx*len(temps):(idx+1)*len(temps)],'-o')\n",
    "    plt.legend(['Total Response Time','Rise Time','Decay Time'])\n",
    "    plt.title(name_of_LC+\" - \"+voltage+\"V\")\n",
    "    plt.savefig(output_path+\"/ResponseTimevsVoltage/\"+name_of_LC+\"_\"+voltage+\"V.jpg\", dpi=300,bbox_inches='tight')\n",
    "    plt.show()"
   ]
  },
  {
   "cell_type": "code",
   "execution_count": null,
   "metadata": {
    "tags": []
   },
   "outputs": [],
   "source": [
    "titles=['Rise Time','Decay Time','Total Response Time']\n",
    "if not os.path.exists(output_path+\"/ResponseTimeMap\") :\n",
    "    os.mkdir (output_path+\"/ResponseTimeMap\")\n",
    "for title in titles:\n",
    "    plt.figure(1,figsize=(12, 8), dpi=100, linewidth=0.1)\n",
    "    teste = np.resize(results[title].to_numpy(copy=True),(len(temps),len(voltages)))\n",
    "    tas=pd.DataFrame(teste,temps,voltages)\n",
    "    sns.heatmap(tas, annot=True,cmap='coolwarm')\n",
    "    plt.xlabel(\"Applied Voltage (in Volts)\")\n",
    "    plt.ylabel(\"Temperature (in Celcius)\")\n",
    "    plt.title(name_of_LC+\" - \"+title+\" (in seconds)\")\n",
    "    plt.savefig(output_path+\"/ResponseTimeMap/\"+name_of_LC+\"_\"+title+\".jpg\", dpi=300,bbox_inches='tight')\n",
    "    plt.show()\n"
   ]
  },
  {
   "cell_type": "markdown",
   "metadata": {},
   "source": [
    "# Analysing properties of the Liquid Crystal"
   ]
  },
  {
   "cell_type": "code",
   "execution_count": null,
   "metadata": {},
   "outputs": [],
   "source": [
    "#Setting up dataframe for recording derived properties \n",
    "properties=pd.DataFrame(columns = ['Property', 'Value', 'Units'])"
   ]
  },
  {
   "cell_type": "code",
   "execution_count": null,
   "metadata": {},
   "outputs": [],
   "source": [
    "#If the above Property is fine, append the property to list of properties\n",
    "properties=properties.append({'Property':prop, 'Value':value, 'Units':units},ignore_index=True)\n",
    "properties.tail()"
   ]
  },
  {
   "cell_type": "code",
   "execution_count": null,
   "metadata": {},
   "outputs": [],
   "source": [
    "# If all the properties are fine, write out the properties to a csv file\n",
    "properties.to_csv(output_path+\"/\"+\"Derived_Properties.csv\", index=False)"
   ]
  },
  {
   "cell_type": "code",
   "execution_count": null,
   "metadata": {
    "tags": []
   },
   "outputs": [],
   "source": [
    "#Calculating K from Threshold Voltage\n",
    "#K depends on temperature\n",
    "k_by_dielectric_anisotropy=(vth*2/pi)**2*epsilon\n",
    "print(\"Combined elastic constant K divided by dielectric anisotropy \"+\"at temp \"+str(temp)+\" celcius = \"+str(k_by_dielectric_anisotropy))"
   ]
  },
  {
   "cell_type": "code",
   "execution_count": null,
   "metadata": {
    "tags": []
   },
   "outputs": [],
   "source": [
    "#Calulating Rotational Viscocity by Dielectric Anisotrpy from Rise Time\n",
    "gamma_by_DA=[]\n",
    "for i in range(21,28):\n",
    "    gamma_by_DA.append(results['Rise Time'][i]*epsilon*((results['Applied Voltage'][i])**2-vth**2)/thickness**2)\n",
    "    print(results['Applied Voltage'][i],gamma_by_DA[i-21])"
   ]
  },
  {
   "cell_type": "code",
   "execution_count": null,
   "metadata": {
    "tags": []
   },
   "outputs": [],
   "source": [
    "#Comparing Visco Elasitc Ratios\n",
    "for i in range(21,28):\n",
    "    print(results['Visco-Elastic Ratio'][i],gamma_by_DA[i-21]/k_by_dielectric_anisotropy,results['Visco-Elastic Ratio'][i]-gamma_by_DA[i-21]/k_by_dielectric_anisotropy)"
   ]
  },
  {
   "cell_type": "code",
   "execution_count": null,
   "metadata": {},
   "outputs": [],
   "source": []
  }
 ],
 "metadata": {
  "kernelspec": {
   "name": "python_defaultSpec_1601011865734",
   "display_name": "Python 3.8.2 64-bit ('venv')",
   "metadata": {
    "interpreter": {
     "hash": "2ebfbb92998070e4f8ced37b2adea690330813632a6b2965fe28c4b4dd773fc7"
    }
   }
  },
  "language_info": {
   "codemirror_mode": {
    "name": "ipython",
    "version": 3
   },
   "file_extension": ".py",
   "mimetype": "text/x-python",
   "name": "python",
   "nbconvert_exporter": "python",
   "pygments_lexer": "ipython3",
   "version": "3.8.2-final"
  }
 },
 "nbformat": 4,
 "nbformat_minor": 2
}