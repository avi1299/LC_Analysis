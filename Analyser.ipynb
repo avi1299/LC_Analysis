{
 "cells": [
  {
   "cell_type": "markdown",
   "metadata": {},
   "source": [
    "# Importing Libraries"
   ]
  },
  {
   "cell_type": "code",
   "execution_count": null,
   "metadata": {},
   "outputs": [],
   "source": [
    "import numpy as np\n",
    "import pandas as pd\n",
    "import matplotlib.pyplot as plt\n",
    "from scipy.signal import savgol_filter\n",
    "import os\n",
    "from math import pi\n",
    "%matplotlib inline"
   ]
  },
  {
   "cell_type": "code",
   "execution_count": null,
   "metadata": {},
   "outputs": [],
   "source": [
    "#Run this to reset the results\n",
    "results= pd.DataFrame(columns = ['LC Name', 'Temperature', 'Applied Voltage','Rise Time','Decay Time','Total Response Time'])"
   ]
  },
  {
   "cell_type": "code",
   "execution_count": null,
   "metadata": {},
   "outputs": [],
   "source": [
    "#Loading the data\n",
    "path=\"/home/avinash/Desktop/Projects/Liquid_Crystal_Analysis/data/Batch2\" #Enter Loaction WHere CSV data is kept\n",
    "\n",
    "#temp= str(input(\"Enter Temperature: \")) #If you have a fixed value of temp, then comment this line and uncomment the next line after giving value\n",
    "#temp =str(30)\n",
    "name_of_LC=\"Pure LC\"# Change this to show type of LC\n",
    "thickness= 7.01E-6 #in Metres\n",
    "area=77E-6 #in Metres^2\n",
    "empty_c=99.6E-12 #in Farad\n",
    "wavelength=633E-9 #in metre\n",
    "if not os.path.exists(path + \"/Analysis\") :\n",
    "    os.mkdir (path + \"/Analysis\")\n",
    "output_path=path+\"/Analysis\""
   ]
  },
  {
   "cell_type": "markdown",
   "metadata": {},
   "source": [
    "# Analysis of Each Voltage Case"
   ]
  },
  {
   "cell_type": "code",
   "execution_count": null,
   "metadata": {
    "tags": []
   },
   "outputs": [],
   "source": [
    "#Input Voltage\n",
    "try :\n",
    "    temp=str(input(\"Enter Temperature: \"))\n",
    "    voltage=str(input(\"Enter Voltage: \"))\n",
    "    input_path=path+\"/\"+temp+\"_\"+voltage+\"_2.csv\"\n",
    "    df=pd.read_csv(input_path,skiprows=1)\n",
    "    #Normalizing the Volt to represent transmittance\n",
    "    df.Volt=(df.Volt-df.Volt.min())/(df.Volt.max()-df.Volt.min())\n",
    "except :\n",
    "  print (\"Incorrect CSV directory or filename\")\n",
    "  exit(1)\n",
    "else:\n",
    "    print(\"File Exists. Start Analysis\")"
   ]
  },
  {
   "cell_type": "code",
   "execution_count": null,
   "metadata": {
    "tags": []
   },
   "outputs": [],
   "source": [
    "plt.figure(figsize=(12, 8), dpi=100, linewidth=0.1)\n",
    "plt.xlabel(\"Time (in seconds)\")\n",
    "plt.ylabel(\"Transmittance\")\n",
    "\n",
    "#Have set the window size as a constant = 33. If the number of intersections on\n",
    "#the 0.9 line or 0.1 line are more than 6, then icncrease window size\n",
    "window_size =33\n",
    "smooth=savgol_filter(df.Volt,window_size,2) #Creating a smoothened Curve us SavGol filter with window size 25 \n",
    "\n",
    "plt.plot(df.second,smooth) #Printing the smooth curve\n",
    "plt.plot(df.second,df.Volt)#Printing the actual curve\n",
    "\n",
    "plt.plot(df.second,0.9*np.ones(df.second.shape)) #Printing horizontal line at 0.9\n",
    "plt.plot(df.second,0.1*np.ones(df.second.shape)) #Printing horizontal line at 0.1\n",
    "\n",
    "#Finding position where the curve closses the 0.9 transmittance\n",
    "idx = np.argwhere(np.diff(np.sign(smooth - 0.9))).flatten()\n",
    "if(len(idx)!=6):\n",
    "    print(\"Error in top. Number of points greater than 6. Increase window size and retry\")\n",
    "    exit(1)\n",
    "idx=idx[1:5] #Eliminating First and last points\n",
    "plt.plot(df.second[idx], 0.9*np.ones(idx.size), 'ro') #Plotting Points of intersection\n",
    "#print(len(idx))\n",
    "idx_top=idx\n",
    "for i in range(len(idx)):\n",
    "    plt.annotate(\"T90=\"+str(round(df.second[idx[i]],4)),(df.second[idx[i]], 0.9),xytext =(df.second[idx[i]]+0.0005-max(0,0.006*pow(-1,i+1)), 0.91))\n",
    "\n",
    "\n",
    "#Finding position where the curve closses the 0.1 transmittance\n",
    "idx = np.argwhere(np.diff(np.sign(smooth - 0.1))).flatten()\n",
    "if(len(idx)!=6):\n",
    "    print(\"Error in bot. Number of points greater than 6. Increase window size and retry\")\n",
    "    exit(1)\n",
    "idx=idx[1:5] #Eliminating First and last points\n",
    "plt.plot(df.second[idx], 0.1*np.ones(idx.size), 'bo') #Plotting Points of intersection\n",
    "#print(len(idx))\n",
    "idx_bot=idx\n",
    "for i in range(len(idx)):\n",
    "    plt.annotate(\"T10=\"+str(round(df.second[idx[i]],4)),(df.second[idx[i]], 0.1),xytext =(df.second[idx[i]]+0.0005-max(0,0.006*pow(-1,i)), 0.11-max(0,0.05*pow(-1,i))))\n",
    "\n",
    "#Calculating RiseTime and DecayTime (average of 2 sets)\n",
    "rise_time=((df.second[idx_bot[0]]-df.second[idx_top[0]])+(df.second[idx_bot[2]]-df.second[idx_top[2]]))/2\n",
    "decay_time=((df.second[idx_top[1]]-df.second[idx_bot[1]])+(df.second[idx_top[3]]-df.second[idx_bot[3]]))/2\n",
    "response_time=rise_time+decay_time\n",
    "#Printing the times\n",
    "print(\"Rise Time = \",rise_time,\"seconds\")\n",
    "print(\"Decay Time = \",decay_time,\"seconds\")\n",
    "print(\"Response Time = \",response_time,\"seconds\")\n",
    "plt.annotate(\"Rise Time = \"+str(round(rise_time,4)),xy=(0.019,1))\n",
    "plt.annotate(\"Decay Time=\"+str(round(decay_time,4)),xy=(0.019,0.97))\n",
    "plt.annotate(\"Resp. Time=\"+str(round(response_time,4)),xy=(0.019,0.94))\n",
    "plt.annotate(name_of_LC,xy=(-0.027,1))\n",
    "plt.annotate(\"Appl. Volt. = \"+voltage+\"V\",xy=(-0.027,0.97))\n",
    "plt.annotate(\"Temp = \"+temp+\"C\",xy=(-0.027,0.94))\n",
    "\n",
    "plt.savefig(output_path+\"/\"+temp+\"_\"+voltage+\".jpg\", dpi=300,bbox_inches='tight')\n",
    "plt.show()\n"
   ]
  },
  {
   "cell_type": "code",
   "execution_count": null,
   "metadata": {},
   "outputs": [],
   "source": [
    "#If you are happy with the above results add it to the list. Execute this command to do that.\n",
    "\n",
    "results=results.append({'LC Name':name_of_LC, 'Temperature':temp, 'Applied Voltage':voltage,'Rise Time':rise_time,'Decay Time':decay_time,'Total Response Time': response_time},ignore_index=True)\n",
    "results.tail()"
   ]
  },
  {
   "cell_type": "code",
   "execution_count": null,
   "metadata": {},
   "outputs": [],
   "source": [
    "#Plotting the response time vs Applied Voltage\n",
    "plt.figure(1,figsize=(12, 8), dpi=100, linewidth=0.1)\n",
    "plt.ylabel(\"Time (in seconds)\")\n",
    "plt.xlabel(\"Applied Voltage (in Volts)\")\n",
    "plt.plot(results['Applied Voltage'],results['Total Response Time'],'-o')\n",
    "plt.plot(results['Applied Voltage'],results['Rise Time'],'-o')\n",
    "plt.plot(results['Applied Voltage'],results['Decay Time'],'-o')\n",
    "plt.legend(['Total Response Time','Rise Time','Decay Time'])\n",
    "plt.savefig(output_path+\"/\"+name_of_LC+\"_\"+temp+\".jpg\", dpi=300,bbox_inches='tight')\n",
    "plt.show()\n"
   ]
  },
  {
   "cell_type": "code",
   "execution_count": null,
   "metadata": {},
   "outputs": [],
   "source": [
    "#If you are happy with the results, you can write it to a csv file.\n",
    "results.to_csv(output_path+\"/\"+\"RespTimevsAppVolt.csv\", index=False)"
   ]
  },
  {
   "cell_type": "markdown",
   "metadata": {},
   "source": [
    "# Analysing properties of the Liquid Crystal"
   ]
  },
  {
   "cell_type": "code",
   "execution_count": null,
   "metadata": {},
   "outputs": [],
   "source": [
    "#Setting up dataframe for recording derived properties \n",
    "properties=pd.DataFrame(columns = ['Property', 'Value', 'Units'])"
   ]
  },
  {
   "cell_type": "code",
   "execution_count": null,
   "metadata": {
    "tags": []
   },
   "outputs": [],
   "source": [
    "\n",
    "\n",
    "try :\n",
    "    results=pd.read_csv(output_path+\"/\"+\"RespTimevsAppVolt.csv\")\n",
    "except :\n",
    "  print (\"Incorrect CSV directory or filename\")\n",
    "  exit(1)\n",
    "else:\n",
    "    print(\"File Exists. Further calculations allowed\")\n"
   ]
  },
  {
   "cell_type": "code",
   "execution_count": null,
   "metadata": {
    "tags": []
   },
   "outputs": [],
   "source": [
    "# Rotational_Viscosity/Combined_Elastic_Constant Analysis\n",
    "prop=\"Gamma/K\"\n",
    "value=results['Decay Time'].mean()*pi**2/thickness**2\n",
    "units=\"s/m^2\"\n",
    "print(\"Rotational_Viscosity/Combined_Elastic_Constant (gamma/K) = \"+str(value)+\" \"+units)\n"
   ]
  },
  {
   "cell_type": "code",
   "execution_count": null,
   "metadata": {},
   "outputs": [],
   "source": [
    "#If the above Property is fine, append the property to list of properties\n",
    "properties=properties.append({'Property':prop, 'Value':value, 'Units':units},ignore_index=True)\n",
    "properties.tail()"
   ]
  },
  {
   "cell_type": "code",
   "execution_count": null,
   "metadata": {},
   "outputs": [],
   "source": [
    "# If all the properties are fine, write out the properties to a csv file\n",
    "properties.to_csv(output_path+\"/\"+\"Derived_Properties.csv\", index=False)"
   ]
  }
 ],
 "metadata": {
  "kernelspec": {
   "display_name": "Python 3",
   "language": "python",
   "name": "python3"
  },
  "language_info": {
   "codemirror_mode": {
    "name": "ipython",
    "version": 3
   },
   "file_extension": ".py",
   "mimetype": "text/x-python",
   "name": "python",
   "nbconvert_exporter": "python",
   "pygments_lexer": "ipython3",
   "version": "3.8.2"
  }
 },
 "nbformat": 4,
 "nbformat_minor": 2
}