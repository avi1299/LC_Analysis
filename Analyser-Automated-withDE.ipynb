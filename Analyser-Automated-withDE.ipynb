{
 "cells": [
  {
   "cell_type": "markdown",
   "metadata": {},
   "source": [
    "# Importing Libraries"
   ]
  },
  {
   "cell_type": "code",
   "execution_count": null,
   "metadata": {},
   "outputs": [],
   "source": [
    "import numpy as np\n",
    "import pandas as pd\n",
    "import matplotlib.pyplot as plt\n",
    "from scipy.signal import savgol_filter\n",
    "from math import pi,acos,log10\n",
    "import os\n",
    "import seaborn as sns\n",
    "from scipy.constants import epsilon_0 as epsilon\n",
    "%matplotlib inline"
   ]
  },
  {
   "cell_type": "code",
   "execution_count": null,
   "metadata": {},
   "outputs": [],
   "source": [
    "#Run this to reset the results\n",
    "results= pd.DataFrame(columns = ['LC Name', 'Temperature', 'Applied Voltage','Rise Time','Decay Time','Total Response Time','Visco-Elastic Ratio'])"
   ]
  },
  {
   "cell_type": "code",
   "execution_count": null,
   "metadata": {},
   "outputs": [],
   "source": [
    "#Loading the data\n",
    "path=\"/home/avinash/Desktop/Projects/Liquid_Crystal_Analysis/data/Batch4/Electro-optic/Doped\" #Enter Loaction WHere CSV data is kept\n",
    "\n",
    "\n",
    "name_of_LC=\"Doped\"# Change this to show type of LC\n",
    "thickness= 6.5E-6 #in Metres\n",
    "area=70E-6 #in Metres^2\n",
    "empty_c=102E-12 #in Farad\n",
    "wavelength=633E-9 #in metre\n",
    "#Dielectric Anisotropy depends on temperature\n",
    "\n",
    "voltages=['5','6','7','8','9','10']\n",
    "#epsilon_a=[1,1,1,1]\n",
    "\n",
    "if not os.path.exists(path + \"/Analysis\") :\n",
    "    os.mkdir (path + \"/Analysis\")\n",
    "output_path=path+\"/Analysis\""
   ]
  },
  {
   "source": [
    "# Finding the Threshold Voltage"
   ],
   "cell_type": "markdown",
   "metadata": {}
  },
  {
   "cell_type": "code",
   "execution_count": null,
   "metadata": {},
   "outputs": [],
   "source": [
    "#Reading the datafile containing the Threshold Voltage data\n",
    "vthdata=pd.read_csv(path+\"/Doped_Voltage transmission_RT.csv\",skiprows=0)\n",
    "#vthdata.columns(['Voltage','Intensity'])\n",
    "#Normalizing Voltage\n",
    "#vthdata=vthdata.rename(columns={\"v\":\"Voltage\",\"intensity\":\"Intensity\"})\n",
    "vthdata['Intensity']=(vthdata['Intensity']-vthdata['Intensity'].min())/(vthdata['Intensity'].max()-vthdata['Intensity'].min())\n",
    "\n",
    "vthdata"
   ]
  },
  {
   "cell_type": "code",
   "execution_count": null,
   "metadata": {
    "tags": []
   },
   "outputs": [],
   "source": [
    "#Plotting the normalized intensity vs voltage data\n",
    "plt.figure(2,figsize=(12, 8), dpi=100, linewidth=0.1)\n",
    "plt.ylabel(\"Normalized Intensity\")\n",
    "plt.xlabel(\"Applied Voltage (in Volts)\")\n",
    "plt.plot(vthdata['Voltage'],vthdata['Intensity'],'-o')\n",
    "#indx_max = np.argmax(vthdata['Intensity'])\n",
    "#Set on your own\n",
    "indx_max = 45\n",
    "plt.plot(vthdata['Voltage'][indx_max], vthdata['Intensity'][indx_max], 'ro')\n",
    "vth=vthdata['Voltage'][indx_max]\n",
    "#plt.plot(vth*np.ones(2),[1,vthdata['Intensity'][indx_max]])\n",
    "plt.annotate(\"Threshold Votage:\"+ str(vth)+'V',(vthdata['Voltage'][indx_max], vthdata['Intensity'][indx_max]),xytext=(vthdata['Voltage'][indx_max]+0.25, vthdata['Intensity'][indx_max]))\n",
    "print(\"Threshold Votage:\"+ str(vth)+'V')\n",
    "plt.title(name_of_LC+\" Threshold_Voltage\")\n",
    "plt.savefig(output_path+\"/\"+name_of_LC+\"_\"+\"Threshold_Voltage.jpg\", dpi=300,bbox_inches='tight')\n",
    "plt.show()"
   ]
  },
  {
   "cell_type": "code",
   "execution_count": null,
   "metadata": {
    "tags": []
   },
   "outputs": [],
   "source": [
    "#FInding the birefringence from the Intensity vs Voltage Data\n",
    "#Threshold Voltage depends on temperature of material\n",
    "plt.figure(2,figsize=(12, 8), dpi=100, linewidth=0.1)\n",
    "plt.ylabel(\"Degradation in terms of Birefringence\")\n",
    "plt.xlabel(\"Applied Voltage (in Volts)\")\n",
    "biref=np.arccos(1-vthdata['Intensity']*2)/2/pi/thickness*wavelength\n",
    "plt.plot(vthdata['Voltage'],biref,'-o')\n",
    "\n",
    "#indx_max = np.argmax(biref)\n",
    "#plt.plot(vthdata['Voltage'][indx_max], biref[indx_max], 'ro')\n",
    "#b=biref[indx_max]\n",
    "#plt.plot(vth*np.ones(2),[1,vthdata['Intensity'][indx_max]])\n",
    "#plt.annotate(\"Max Birefringence:\"+ str(b),(vthdata['Voltage'][indx_max], biref[indx_max]),xytext=(vthdata['Voltage'][indx_max]+0.25, biref[indx_max]))\n",
    "#print(\"Max Birefrigence:\"+ str(b)+'V')\n",
    "\n",
    "plt.title(name_of_LC+\" Birefringence\")\n",
    "plt.savefig(output_path+\"/\"+name_of_LC+\"_\"+\"Birefringence.jpg\", dpi=300,bbox_inches='tight')\n",
    "plt.show()"
   ]
  },
  {
   "source": [
    "# Analysis of Each Temperature and Voltage Case"
   ],
   "cell_type": "markdown",
   "metadata": {}
  },
  {
   "cell_type": "code",
   "execution_count": null,
   "metadata": {
    "tags": []
   },
   "outputs": [],
   "source": [
    "if not os.path.exists(output_path+\"/TransmittancevsTime\") :\n",
    "    temp=0\n",
    "    os.mkdir (output_path+\"/TransmittancevsTime\")\n",
    "    for voltage in voltages:\n",
    "        try :\n",
    "            #temp=str(temp)\n",
    "            #voltage=str(voltage)\n",
    "            if voltage=='10':\n",
    "                input_path=path+\"/\"+voltage+\"_2.csv\"\n",
    "            else:\n",
    "                input_path=path+\"/\"+voltage+\"__2.csv\"\n",
    "            df=pd.read_csv(input_path,skiprows=1)\n",
    "            #Normalizing the Volt to represent transmittance\n",
    "            df.Volt=(df.Volt-df.Volt.min())/(df.Volt.max()-df.Volt.min())\n",
    "        except :\n",
    "            print (\"Incorrect CSV directory or filename\")\n",
    "            continue\n",
    "        else:\n",
    "            print(\"File Exists. Start Analysis\")\n",
    "        plt.figure(figsize=(12, 8), dpi=100, linewidth=0.1)\n",
    "        plt.xlabel(\"Time (in seconds)\")\n",
    "        plt.ylabel(\"Transmittance\")\n",
    "\n",
    "        #Have set the window size as a constant = 33. If the number of intersections on\n",
    "        #the 0.9 line or 0.1 line are more than 6, then icncrease window size\n",
    "        window_size =33\n",
    "        smooth=savgol_filter(df.Volt,window_size,2) #Creating a smoothened Curve us SavGol filter with window size 25 \n",
    "\n",
    "        plt.plot(df.second,smooth) #Printing the smooth curve\n",
    "        plt.plot(df.second,df.Volt)#Printing the actual curve\n",
    "\n",
    "        plt.plot(df.second,0.9*np.ones(df.second.shape)) #Printing horizontal line at 0.9\n",
    "        plt.plot(df.second,0.1*np.ones(df.second.shape)) #Printing horizontal line at 0.1\n",
    "\n",
    "        #Finding position where the curve closses the 0.9 transmittance\n",
    "        idx = np.argwhere(np.diff(np.sign(smooth - 0.9))).flatten()\n",
    "        if(len(idx)!=6):\n",
    "            print(\"Error in top. Number of points greater than 6. Increase window size and retry\")\n",
    "            exit(1)\n",
    "        idx=idx[1:5] #Eliminating First and last points\n",
    "        plt.plot(df.second[idx], 0.9*np.ones(idx.size), 'ro') #Plotting Points of intersection\n",
    "        #print(len(idx))\n",
    "        idx_top=idx\n",
    "        for i in range(len(idx)):\n",
    "            plt.annotate(\"T90=\"+str(round(df.second[idx[i]],4)),(df.second[idx[i]], 0.9),xytext =(df.second[idx[i]]+0.0005-max(0,0.006*pow(-1,i+1)), 0.91))\n",
    "\n",
    "\n",
    "        #Finding position where the curve closses the 0.1 transmittance\n",
    "        idx = np.argwhere(np.diff(np.sign(smooth - 0.1))).flatten()\n",
    "        if(len(idx)!=6):\n",
    "            print(\"Error in bot. Number of points greater than 6. Increase window size and retry\")\n",
    "            exit(1)\n",
    "        idx=idx[1:5] #Eliminating First and last points\n",
    "        plt.plot(df.second[idx], 0.1*np.ones(idx.size), 'bo') #Plotting Points of intersection\n",
    "        #print(len(idx))\n",
    "        idx_bot=idx\n",
    "        for i in range(len(idx)):\n",
    "            plt.annotate(\"T10=\"+str(round(df.second[idx[i]],4)),(df.second[idx[i]], 0.1),xytext =(df.second[idx[i]]+0.0005-max(0,0.006*pow(-1,i)), 0.11-max(0,0.05*pow(-1,i))))\n",
    "\n",
    "        #Calculating RiseTime and DecayTime (average of 2 sets)\n",
    "        rise_time=((df.second[idx_bot[0]]-df.second[idx_top[0]])+(df.second[idx_bot[2]]-df.second[idx_top[2]]))/2\n",
    "        decay_time=((df.second[idx_top[1]]-df.second[idx_bot[1]])+(df.second[idx_top[3]]-df.second[idx_bot[3]]))/2\n",
    "        response_time=rise_time+decay_time\n",
    "        #Printing the times\n",
    "        #print(\"Rise Time = \",rise_time,\"seconds\")\n",
    "        #print(\"Decay Time = \",decay_time,\"seconds\")\n",
    "        #print(\"Response Time = \",response_time,\"seconds\")\n",
    "        plt.annotate(\"Rise Time = \"+str(round(rise_time,4)),xy=(0.019,1))\n",
    "        plt.annotate(\"Decay Time=\"+str(round(decay_time,4)),xy=(0.019,0.97))\n",
    "        plt.annotate(\"Resp. Time=\"+str(round(response_time,4)),xy=(0.019,0.94))\n",
    "        plt.annotate(name_of_LC,xy=(-0.027,1))\n",
    "        plt.annotate(\"Appl. Volt. = \"+voltage+\"V\",xy=(-0.027,0.97))\n",
    "        #plt.annotate(\"Temp = \"+temp+\"C\",xy=(-0.027,0.94))\n",
    "        plt.title(name_of_LC+\"_\"+voltage+\"V\")\n",
    "        plt.savefig(output_path+\"/TransmittancevsTime/\"+voltage+\".jpg\", dpi=300,bbox_inches='tight')\n",
    "        #plt.show()\n",
    "        results=results.append({'LC Name':name_of_LC, 'Temperature':temp, 'Applied Voltage':voltage,'Rise Time':rise_time,'Decay Time':decay_time,'Total Response Time': response_time,'Visco-Elastic Ratio':decay_time*(pi/thickness)**2},ignore_index=True)\n",
    "        "
   ]
  },
  {
   "cell_type": "code",
   "execution_count": null,
   "metadata": {},
   "outputs": [],
   "source": [
    "#If you are happy with the results, you can write it to a csv file.\n",
    "results.to_csv(output_path+\"/\"+\"RespTimevsAppVolt.csv\", index=False)"
   ]
  },
  {
   "cell_type": "code",
   "execution_count": null,
   "metadata": {},
   "outputs": [],
   "source": [
    "results=pd.read_csv(output_path+\"/RespTimevsAppVolt.csv\")\n",
    "results.tail()"
   ]
  },
  {
   "cell_type": "code",
   "execution_count": null,
   "metadata": {},
   "outputs": [],
   "source": [
    "#Plotting the response time vs Applied Voltage\n",
    "if not os.path.exists(output_path+\"/ResponseTimevsTemp\") :\n",
    "    os.mkdir (output_path+\"/ResponseTimevsTemp\")\n",
    "temps=['0']\n",
    "for idx,temp in enumerate(temps):\n",
    "    plt.figure(1,figsize=(12, 8), dpi=100, linewidth=0.1)\n",
    "    plt.ylabel(\"Time (in seconds)\")\n",
    "    plt.xlabel(\"Applied Voltage (in Volts)\")\n",
    "    plt.plot(results['Applied Voltage'][idx*len(voltages):(idx+1)*len(voltages)],results['Total Response Time'][idx*len(voltages):(idx+1)*len(voltages)],'-o')\n",
    "    plt.plot(results['Applied Voltage'][idx*len(voltages):(idx+1)*len(voltages)],results['Rise Time'][idx*len(voltages):(idx+1)*len(voltages)],'-o')\n",
    "    plt.plot(results['Applied Voltage'][idx*len(voltages):(idx+1)*len(voltages)],results['Decay Time'][idx*len(voltages):(idx+1)*len(voltages)],'-o')\n",
    "    plt.legend(['Total Response Time','Rise Time','Decay Time'])\n",
    "    plt.title(name_of_LC+\" - Response Time vs Voltage\")\n",
    "    plt.savefig(output_path+\"/ResponseTimevsTemp/\"+name_of_LC+\"_\"+temp+\".jpg\", dpi=300,bbox_inches='tight')\n",
    "    plt.show()\n"
   ]
  },
  {
   "cell_type": "code",
   "execution_count": null,
   "metadata": {
    "tags": []
   },
   "outputs": [],
   "source": [
    "titles=['Rise Time','Decay Time','Total Response Time']\n",
    "if not os.path.exists(output_path+\"/ResponseTimeMap\") :\n",
    "    os.mkdir (output_path+\"/ResponseTimeMap\")\n",
    "for title in titles:\n",
    "    plt.figure(1,figsize=(12, 2), dpi=100, linewidth=0.1)\n",
    "    teste = np.resize((results[title]*1000).to_numpy(copy=True),(len(temps),len(voltages)))\n",
    "    tas=pd.DataFrame(teste,temps,voltages)\n",
    "    sns.heatmap(tas, annot=True,cmap='coolwarm')\n",
    "    plt.xlabel(\"Applied Voltage (in Volts)\")\n",
    "    #plt.ylabel(\"Temperature (in Celcius)\")\n",
    "    plt.title(name_of_LC+\" - \"+title+\" (in ms)\")\n",
    "    plt.savefig(output_path+\"/ResponseTimeMap/\"+name_of_LC+\"_\"+title+\".jpg\", dpi=300,bbox_inches='tight')\n",
    "    plt.show()\n"
   ]
  },
  {
   "source": [
    "# Dilelectric Analysis"
   ],
   "cell_type": "markdown",
   "metadata": {}
  },
  {
   "cell_type": "code",
   "execution_count": null,
   "metadata": {},
   "outputs": [],
   "source": [
    "result_DE= pd.DataFrame(columns = ['LC Name', 'Temperature','e_infi','e_stat','Dielectric_Strength','Relaxation_freq','Relaxation_time'])"
   ]
  },
  {
   "cell_type": "code",
   "execution_count": null,
   "metadata": {
    "tags": []
   },
   "outputs": [],
   "source": [
    "path_DE=\"/home/avinash/Desktop/Projects/Liquid_Crystal_Analysis/data/Batch4/Dielectric-spectroscopy/Doped\"\n",
    "if not os.path.exists(path_DE + \"/Analysis\") :\n",
    "    os.mkdir (path_DE + \"/Analysis\")\n",
    "output_path_DE=path_DE+\"/Analysis\"\n",
    "\n",
    "filename='+5(49.2)'\n",
    "\n",
    "DE=pd.read_csv(path_DE+\"/\"+filename+\".CSV\",skiprows=4)\n",
    "DE=DE[:-1]\n",
    "DE.columns=['Frequency','Capacitance','Dielectric_loss','Resistance','Reactance','Impedance']\n",
    "DE=DE.astype('float64')\n",
    "\n",
    "#DE.Frequency=np.log10(DE.Frequency)\n",
    "\n",
    "endfreq=pd.Series(DE.Frequency[DE.Capacitance<0]).iloc[0]#index to control\n",
    "print(endfreq)\n",
    "DE=DE[DE.Frequency<endfreq]\n",
    "\n",
    "#newD=1/(DE.Frequency*DE.Capacitance*DE.Resistance)\n",
    "\n",
    "real_e=pd.Series(DE.Capacitance*thickness/epsilon/area)\n",
    "imag_e =real_e*DE.Dielectric_loss\n",
    "\n",
    "startfreq=DE.Frequency[(imag_e.idxmin())+00]#offset to control\n",
    "print(startfreq)\n",
    "DE=DE[DE.Frequency>startfreq]\n",
    "\n",
    "real_e=pd.Series(DE.Capacitance*thickness/epsilon/area)\n",
    "imag_e =real_e*DE.Dielectric_loss\n",
    "\n",
    "idx = np.argwhere(np.diff(np.sign(real_e - imag_e))).flatten()\n",
    "idx=idx[0]\n",
    "print(idx)\n",
    "\n",
    "idx1=np.argmax(imag_e)\n",
    "print(idx1)\n",
    "\n",
    "plt.figure(3,figsize=(12, 8), dpi=100, linewidth=0.1)\n",
    "plt.ylabel(\"Permitivity\")\n",
    "plt.xlabel(\"Frequency in Hz\")\n",
    "plt.plot(DE.Frequency,real_e)\n",
    "plt.plot(DE.Frequency,imag_e)\n",
    "plt.plot(DE.Frequency.iloc[idx1], imag_e.iloc[idx1], 'ro')\n",
    "plt.annotate(\"Relaxation Frequency = \"+str(round(DE.Frequency.iloc[idx1],2))+\"Hz\",(DE.Frequency.iloc[idx1], imag_e.iloc[idx1]),xytext =(DE.Frequency.iloc[idx1+5], imag_e.iloc[idx1]))\n",
    "plt.title(name_of_LC+\" : \"+filename+\" Permitivity vs Frequency\")\n",
    "plt.legend(['Real Component','Imaginary Component'])\n",
    "if not os.path.exists(output_path_DE + \"/Permitivity_VS_Frequency\") :\n",
    "    os.mkdir (output_path_DE + \"/Permitivity_VS_Frequency\")\n",
    "plt.savefig(output_path_DE+\"/Permitivity_VS_Frequency/\"+filename+\".jpg\", dpi=300,bbox_inches='tight')\n",
    "\n",
    "plt.figure(4,figsize=(12, 8), dpi=100, linewidth=0.1)\n",
    "plt.xlabel(\"Real Permitivity\")\n",
    "plt.ylabel(\"Imaginary Permitivity\")\n",
    "plt.plot(real_e,imag_e)\n",
    "plt.plot(real_e.iloc[idx1],imag_e.iloc[idx1], 'ro')\n",
    "plt.annotate(\"Relaxation Frequency = \"+str(round(DE.Frequency.iloc[idx1],2))+\"Hz\",(real_e.iloc[idx1],imag_e.iloc[idx1]),xytext =(real_e.iloc[idx1],imag_e.iloc[idx1]+0.1))\n",
    "plt.title(name_of_LC+\" : \"+filename+\" Cole-Cole Plot\")\n",
    "if not os.path.exists(output_path_DE + \"/Cole-Cole_Plot\") :\n",
    "    os.mkdir (output_path_DE + \"/Cole-Cole_Plot\")\n",
    "plt.savefig(output_path_DE+\"/Cole-Cole_Plot/\"+filename+\".jpg\", dpi=300,bbox_inches='tight')\n",
    "#plt.show()\n",
    "#print(1/(DE.Resistance*DE.Capacitance*DE.Frequency*pi*2),DE.Dielectric_loss)"
   ]
  },
  {
   "cell_type": "markdown",
   "metadata": {},
   "source": [
    "# Analysing properties of the Liquid Crystal"
   ]
  },
  {
   "cell_type": "code",
   "execution_count": null,
   "metadata": {},
   "outputs": [],
   "source": [
    "#Setting up dataframe for recording derived properties \n",
    "properties=pd.DataFrame(columns = ['Property', 'Value', 'Units'])"
   ]
  },
  {
   "cell_type": "code",
   "execution_count": null,
   "metadata": {},
   "outputs": [],
   "source": [
    "#If the above Property is fine, append the property to list of properties\n",
    "properties=properties.append({'Property':prop, 'Value':value, 'Units':units},ignore_index=True)\n",
    "properties.tail()"
   ]
  },
  {
   "cell_type": "code",
   "execution_count": null,
   "metadata": {},
   "outputs": [],
   "source": [
    "# If all the properties are fine, write out the properties to a csv file\n",
    "properties.to_csv(output_path+\"/\"+\"Derived_Properties.csv\", index=False)"
   ]
  },
  {
   "cell_type": "code",
   "execution_count": null,
   "metadata": {
    "tags": []
   },
   "outputs": [],
   "source": [
    "#Calculating K from Threshold Voltage\n",
    "#K depends on temperature\n",
    "k_by_dielectric_anisotropy=(vth*2/pi)**2*epsilon\n",
    "print(\"Combined elastic constant K divided by dielectric anisotropy \"+\"at temp \"+str(temp)+\" celcius = \"+str(k_by_dielectric_anisotropy))"
   ]
  },
  {
   "cell_type": "code",
   "execution_count": null,
   "metadata": {
    "tags": []
   },
   "outputs": [],
   "source": [
    "#Calulating Rotational Viscocity by Dielectric Anisotrpy from Rise Time\n",
    "gamma_by_DA=[]\n",
    "for i in range(21,28):\n",
    "    gamma_by_DA.append(results['Rise Time'][i]*epsilon*((results['Applied Voltage'][i])**2-vth**2)/thickness**2)\n",
    "    print(results['Applied Voltage'][i],gamma_by_DA[i-21])"
   ]
  },
  {
   "cell_type": "code",
   "execution_count": null,
   "metadata": {
    "tags": []
   },
   "outputs": [],
   "source": [
    "#Comparing Visco Elasitc Ratios\n",
    "for i in range(21,28):\n",
    "    print(results['Visco-Elastic Ratio'][i],gamma_by_DA[i-21]/k_by_dielectric_anisotropy,results['Visco-Elastic Ratio'][i]-gamma_by_DA[i-21]/k_by_dielectric_anisotropy)"
   ]
  },
  {
   "cell_type": "code",
   "execution_count": null,
   "metadata": {},
   "outputs": [],
   "source": []
  }
 ],
 "metadata": {
  "kernelspec": {
   "name": "Python 3.8.5 64-bit ('venv')",
   "display_name": "Python 3.8.5 64-bit ('venv')",
   "metadata": {
    "interpreter": {
     "hash": "e824129e5ca318e12413ef4290fbc5be877f4435108613baf9e3d857a731be24"
    }
   }
  },
  "language_info": {
   "codemirror_mode": {
    "name": "ipython",
    "version": 3
   },
   "file_extension": ".py",
   "mimetype": "text/x-python",
   "name": "python",
   "nbconvert_exporter": "python",
   "pygments_lexer": "ipython3",
   "version": "3.8.5-final"
  }
 },
 "nbformat": 4,
 "nbformat_minor": 2
}